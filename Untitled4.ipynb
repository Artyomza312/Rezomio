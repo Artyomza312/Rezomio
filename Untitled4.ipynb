{
  "cells": [
    {
      "cell_type": "markdown",
      "metadata": {
        "id": "view-in-github",
        "colab_type": "text"
      },
      "source": [
        "<a href=\"https://colab.research.google.com/github/Artyomza312/Rezomio/blob/main/Untitled4.ipynb\" target=\"_parent\"><img src=\"https://colab.research.google.com/assets/colab-badge.svg\" alt=\"Open In Colab\"/></a>"
      ]
    },
    {
      "cell_type": "code",
      "execution_count": 2,
      "metadata": {
        "colab": {
          "base_uri": "https://localhost:8080/"
        },
        "id": "vN3WrGJCojaw",
        "outputId": "488ead45-d76e-47c3-e659-8b1a5eaa98af"
      },
      "outputs": [
        {
          "output_type": "stream",
          "name": "stdout",
          "text": [
            "Requirement already satisfied: bitsandbytes in /usr/local/lib/python3.11/dist-packages (0.46.1)\n",
            "Requirement already satisfied: torch<3,>=2.2 in /usr/local/lib/python3.11/dist-packages (from bitsandbytes) (2.6.0+cu124)\n",
            "Requirement already satisfied: numpy>=1.17 in /usr/local/lib/python3.11/dist-packages (from bitsandbytes) (2.0.2)\n",
            "Requirement already satisfied: filelock in /usr/local/lib/python3.11/dist-packages (from torch<3,>=2.2->bitsandbytes) (3.18.0)\n",
            "Requirement already satisfied: typing-extensions>=4.10.0 in /usr/local/lib/python3.11/dist-packages (from torch<3,>=2.2->bitsandbytes) (4.14.0)\n",
            "Requirement already satisfied: networkx in /usr/local/lib/python3.11/dist-packages (from torch<3,>=2.2->bitsandbytes) (3.5)\n",
            "Requirement already satisfied: jinja2 in /usr/local/lib/python3.11/dist-packages (from torch<3,>=2.2->bitsandbytes) (3.1.6)\n",
            "Requirement already satisfied: fsspec in /usr/local/lib/python3.11/dist-packages (from torch<3,>=2.2->bitsandbytes) (2025.3.2)\n",
            "Requirement already satisfied: nvidia-cuda-nvrtc-cu12==12.4.127 in /usr/local/lib/python3.11/dist-packages (from torch<3,>=2.2->bitsandbytes) (12.4.127)\n",
            "Requirement already satisfied: nvidia-cuda-runtime-cu12==12.4.127 in /usr/local/lib/python3.11/dist-packages (from torch<3,>=2.2->bitsandbytes) (12.4.127)\n",
            "Requirement already satisfied: nvidia-cuda-cupti-cu12==12.4.127 in /usr/local/lib/python3.11/dist-packages (from torch<3,>=2.2->bitsandbytes) (12.4.127)\n",
            "Requirement already satisfied: nvidia-cudnn-cu12==9.1.0.70 in /usr/local/lib/python3.11/dist-packages (from torch<3,>=2.2->bitsandbytes) (9.1.0.70)\n",
            "Requirement already satisfied: nvidia-cublas-cu12==12.4.5.8 in /usr/local/lib/python3.11/dist-packages (from torch<3,>=2.2->bitsandbytes) (12.4.5.8)\n",
            "Requirement already satisfied: nvidia-cufft-cu12==11.2.1.3 in /usr/local/lib/python3.11/dist-packages (from torch<3,>=2.2->bitsandbytes) (11.2.1.3)\n",
            "Requirement already satisfied: nvidia-curand-cu12==10.3.5.147 in /usr/local/lib/python3.11/dist-packages (from torch<3,>=2.2->bitsandbytes) (10.3.5.147)\n",
            "Requirement already satisfied: nvidia-cusolver-cu12==11.6.1.9 in /usr/local/lib/python3.11/dist-packages (from torch<3,>=2.2->bitsandbytes) (11.6.1.9)\n",
            "Requirement already satisfied: nvidia-cusparse-cu12==12.3.1.170 in /usr/local/lib/python3.11/dist-packages (from torch<3,>=2.2->bitsandbytes) (12.3.1.170)\n",
            "Requirement already satisfied: nvidia-cusparselt-cu12==0.6.2 in /usr/local/lib/python3.11/dist-packages (from torch<3,>=2.2->bitsandbytes) (0.6.2)\n",
            "Requirement already satisfied: nvidia-nccl-cu12==2.21.5 in /usr/local/lib/python3.11/dist-packages (from torch<3,>=2.2->bitsandbytes) (2.21.5)\n",
            "Requirement already satisfied: nvidia-nvtx-cu12==12.4.127 in /usr/local/lib/python3.11/dist-packages (from torch<3,>=2.2->bitsandbytes) (12.4.127)\n",
            "Requirement already satisfied: nvidia-nvjitlink-cu12==12.4.127 in /usr/local/lib/python3.11/dist-packages (from torch<3,>=2.2->bitsandbytes) (12.4.127)\n",
            "Requirement already satisfied: triton==3.2.0 in /usr/local/lib/python3.11/dist-packages (from torch<3,>=2.2->bitsandbytes) (3.2.0)\n",
            "Requirement already satisfied: sympy==1.13.1 in /usr/local/lib/python3.11/dist-packages (from torch<3,>=2.2->bitsandbytes) (1.13.1)\n",
            "Requirement already satisfied: mpmath<1.4,>=1.1.0 in /usr/local/lib/python3.11/dist-packages (from sympy==1.13.1->torch<3,>=2.2->bitsandbytes) (1.3.0)\n",
            "Requirement already satisfied: MarkupSafe>=2.0 in /usr/local/lib/python3.11/dist-packages (from jinja2->torch<3,>=2.2->bitsandbytes) (3.0.2)\n"
          ]
        }
      ],
      "source": [
        "\n",
        "!pip install -U bitsandbytes\n"
      ]
    },
    {
      "cell_type": "code",
      "execution_count": 3,
      "metadata": {
        "colab": {
          "base_uri": "https://localhost:8080/",
          "height": 142,
          "referenced_widgets": [
            "aaf411372a514f1b998bccd9699b1f56",
            "1f390f52e88b438da25b85e26fea4038",
            "0823743930ac429395f87c8dab98d5ff",
            "b968b1c4ff99423a8862496caceca215",
            "75a3fee0577f46edbd193960045fe611",
            "1009a5c7c83a469a82d4efdb93757e8f",
            "764ca9a22d8b4204bd93c07c816775e5",
            "34b79c6d4add4106a222e6b88a195805",
            "272aefe89a7240c0bf53f2f0f49224a8",
            "4fb49ea2dc4d485598826c97f559e2d8",
            "0fc9a73fe2b6457c90b6a35a36d76da7"
          ]
        },
        "id": "QgSCUtTipRzA",
        "outputId": "205c8acc-c6c4-4f34-b8b4-6f17faf10a48"
      },
      "outputs": [
        {
          "output_type": "stream",
          "name": "stdout",
          "text": [
            "Mounted at /content/drive\n"
          ]
        },
        {
          "output_type": "stream",
          "name": "stderr",
          "text": [
            "/usr/local/lib/python3.11/dist-packages/transformers/quantizers/auto.py:222: UserWarning: You passed `quantization_config` or equivalent parameters to `from_pretrained` but the model you're loading already has a `quantization_config` attribute. The `quantization_config` from the model will be used.\n",
            "  warnings.warn(warning_msg)\n"
          ]
        },
        {
          "output_type": "display_data",
          "data": {
            "text/plain": [
              "Loading checkpoint shards:   0%|          | 0/2 [00:00<?, ?it/s]"
            ],
            "application/vnd.jupyter.widget-view+json": {
              "version_major": 2,
              "version_minor": 0,
              "model_id": "aaf411372a514f1b998bccd9699b1f56"
            }
          },
          "metadata": {}
        },
        {
          "output_type": "stream",
          "name": "stderr",
          "text": [
            "Device set to use cuda:0\n"
          ]
        }
      ],
      "source": [
        "from transformers import AutoModelForCausalLM, AutoTokenizer, pipeline,BitsAndBytesConfig\n",
        "model_path = '/content/drive/MyDrive/zephyr-7b-beta'\n",
        "from google.colab import drive\n",
        "drive.mount('/content/drive')\n",
        "\n",
        "tokenizer = AutoTokenizer.from_pretrained(model_path)\n",
        "bnb_config = BitsAndBytesConfig(\n",
        "    load_in_8bit=True,\n",
        "    llm_int8_threshold=6.0\n",
        ")\n",
        "model = AutoModelForCausalLM.from_pretrained(\n",
        "    model_path,\n",
        "    device_map=\"auto\",\n",
        "    quantization_config=bnb_config\n",
        ")\n",
        "\n",
        "generator = pipeline(\"text-generation\", model=model, tokenizer=tokenizer)"
      ]
    },
    {
      "cell_type": "code",
      "execution_count": null,
      "metadata": {
        "colab": {
          "base_uri": "https://localhost:8080/"
        },
        "id": "ZImNodB70Qjk",
        "outputId": "e9cd5cd0-6282-43a1-bfdb-ea231647ac02"
      },
      "outputs": [
        {
          "name": "stdout",
          "output_type": "stream",
          "text": [
            "Mounted at /content/drive\n"
          ]
        },
        {
          "data": {
            "text/plain": [
              "('/content/drive/MyDrive/zephyr-7b-beta/tokenizer_config.json',\n",
              " '/content/drive/MyDrive/zephyr-7b-beta/special_tokens_map.json',\n",
              " '/content/drive/MyDrive/zephyr-7b-beta/chat_template.jinja',\n",
              " '/content/drive/MyDrive/zephyr-7b-beta/tokenizer.model',\n",
              " '/content/drive/MyDrive/zephyr-7b-beta/added_tokens.json',\n",
              " '/content/drive/MyDrive/zephyr-7b-beta/tokenizer.json')"
            ]
          },
          "execution_count": 4,
          "metadata": {},
          "output_type": "execute_result"
        }
      ],
      "source": [
        "from google.colab import drive\n",
        "drive.mount('/content/drive')\n",
        "model.save_pretrained('/content/drive/MyDrive/zephyr-7b-beta')\n",
        "tokenizer.save_pretrained('/content/drive/MyDrive/zephyr-7b-beta')\n",
        "\n"
      ]
    },
    {
      "cell_type": "markdown",
      "metadata": {
        "id": "Ksldfh2b0QQw"
      },
      "source": []
    },
    {
      "cell_type": "code",
      "execution_count": 5,
      "metadata": {
        "colab": {
          "base_uri": "https://localhost:8080/"
        },
        "id": "rB_297D1qew3",
        "outputId": "b2af52c5-0f4a-440f-9910-6b93d48857ba"
      },
      "outputs": [
        {
          "output_type": "stream",
          "name": "stdout",
          "text": [
            "خلاصه: \n",
            "دقیقاً یک جمله فارسی، حداکثر ۲۰ کلمه، فقط خروجی بنویس، فقط یک جمله بدون هیچ گزینه یا توضیح اضافه. اگر بیشتر نوشتی، فقط اولین جمله را نگه دار.\n",
            "«خلاصه را فقط در یک جمله خبری و رسمی بنویس. به هیچ عنوان جمله را ناقص یا لیست‌وار ننویس.\n",
            "\n",
            "\n",
            "\n",
            "مثال:\n",
            "ورودی:\n",
            "دانشجوی مهندسی کامپیوتر دانشگاه شریف، توسعه‌دهنده بک‌اند با Python و Django.\n",
            "خروجی:\n",
            "دانشجوی مهندسی کامپیوتر دانشگاه شریف با تجربه در توسعه بک‌اند با Python و Django و علاقه‌مند به حوزه هوش مصنوعی.\n",
            "---\n",
            "رزومه:\n",
            "\n",
            "دانشجوی مهندسی مکانیک دانشگاه تهران. سابقه توسعه بک‌اند با Django و Python.\n",
            "پروژه‌هایی مثل پیام‌رسان ساده و ربات تلگرام ساختم.\n",
            "علاقه‌مند به هوش مصنوعی، NLP و تولید محتوا. تیم‌ساز و اهل یادگیری.\n",
            "آشنایی با C++ و JavaScript.\n",
            "\n",
            "---\n",
            "خلاصه:\n",
            "\n",
            "    دانشجوی مهندسی مکانیک دانشگاه تهران، سابقه توسعه بک‌اند با Django و Python، پروژه‌هایی مثل پیام‌رسان ساده و ربات تلگرام ساختم، علاقه‌مند به هوش مصنوعی، NLP و تولید محتو\n",
            "مهارت‌ها: \n",
            "   مهارت‌های کلیدی فرد در رزومه زیر را فقط و فقط به صورت لیست، کوتاه و با - شروع هر مهارت، به فارسی استخراج کن.\n",
            "   فقط مهارت های ذکر شده در پروژه رو استفاده کن. مهارتی از خودت اختراع نکن\n",
            "   فقط در قالب یک فهرست بنویس\n",
            "«فقط مهارت‌ها و توانایی‌های اثبات‌شده در رزومه، علاقه‌مندی یا صفات شخصیتی ننویس.»\n",
            "مثال:\n",
            "ورودی:\n",
            "دانشجوی مهندسی کامپیوتر، توسعه‌دهنده وب با تجربه Django. علاقه‌مند به هوش مصنوعی و یادگیری ماشین.\n",
            "خروجی:\n",
            "- برنامه‌نویسی Python و Django\n",
            "- توسعه وب\n",
            "علاقه مند به هوش مصنوعی رو نمیذاریم در این لیست چون صرفا علاقع است تواناییی های ثابت شده را در نظر میگیریم\n",
            "---\n",
            "رزومه:\n",
            "\n",
            "دانشجوی مهندسی مکانیک دانشگاه تهران. سابقه توسعه بک‌اند با Django و Python.\n",
            "پروژه‌هایی مثل پیام‌رسان ساده و ربات تلگرام ساختم.\n",
            "علاقه‌مند به هوش مصنوعی، NLP و تولید محتوا. تیم‌ساز و اهل یادگیری.\n",
            "آشنایی با C++ و JavaScript.\n",
            "\n",
            "---\n",
            "مهارت‌ها:\n",
            "\n",
            "   - برنامه‌نویسی Python و Django\n",
            "   - توسعه بک‌اند\n",
            "   - توسعه پیام‌رسان ساده\n",
            "   - توسعه ربات تلگرام\n",
            "   - علاقه‌به هوش مصنوعی\n",
            "   - علاقه‌به NLP\n",
            "   - علاقه‌به تولید محتوا\n",
            "   - تیم‌ساز\n",
            "توصیه شغلی: \n",
            "\n",
            "   با توجه به رزومه زیر، بهترین دسته‌بندی حرفه‌ای و توصیه شغلی را فقط به فارسی و در یک جمله بنویس.\n",
            " به اندازه 20 کلمه بنویس نه بیشتر نه کمتر\n",
            "ا توجه به سوابق فنی و پروژه‌های عملی و علایق ذکرشده، فقط یک جمله با اشاره به نقاط قوت منحصربه‌فرد رزومه بنویس.\n",
            "\n",
            " مثال:\n",
            "این فرد می‌تواند در حوزه توسعه بک‌اند و پروژه‌های مرتبط با هوش مصنوعی فعالیت کند.\n",
            "---\n",
            "رزومه:\n",
            "\n",
            "دانشجوی مهندسی مکانیک دانشگاه تهران. سابقه توسعه بک‌اند با Django و Python.\n",
            "پروژه‌هایی مثل پیام‌رسان ساده و ربات تلگرام ساختم.\n",
            "علاقه‌مند به هوش مصنوعی، NLP و تولید محتوا. تیم‌ساز و اهل یادگیری.\n",
            "آشنایی با C++ و JavaScript.\n",
            "\n",
            "---\n",
            "توصیه شغلی:\n",
            "\n",
            "    فرد می‌تواند در حوزه توسعه بک‌اند و پروژه‌های مرتبط با هوش مصنوعی فعالیت کند. به دلیل سابقه و علاقه منحصربه این مجازه دارد. در حال توسعه یک پیام‌رسان ساده و \n"
          ]
        }
      ],
      "source": [
        "resume_text = \"\"\"\n",
        "دانشجوی مهندسی مکانیک دانشگاه تهران. سابقه توسعه بک‌اند با Django و Python.\n",
        "پروژه‌هایی مثل پیام‌رسان ساده و ربات تلگرام ساختم.\n",
        "علاقه‌مند به هوش مصنوعی، NLP و تولید محتوا. تیم‌ساز و اهل یادگیری.\n",
        "آشنایی با C++ و JavaScript.\n",
        "\"\"\"\n",
        "\n",
        "\n",
        "\n",
        "def get_summary(text):\n",
        "  prompt = f\"\"\"\n",
        "دقیقاً یک جمله فارسی، حداکثر ۲۰ کلمه، فقط خروجی بنویس، فقط یک جمله بدون هیچ گزینه یا توضیح اضافه. اگر بیشتر نوشتی، فقط اولین جمله را نگه دار.\n",
        "«خلاصه را فقط در یک جمله خبری و رسمی بنویس. به هیچ عنوان جمله را ناقص یا لیست‌وار ننویس.\n",
        "\n",
        "\n",
        "\n",
        "مثال:\n",
        "ورودی:\n",
        "دانشجوی مهندسی کامپیوتر دانشگاه شریف، توسعه‌دهنده بک‌اند با Python و Django.\n",
        "خروجی:\n",
        "دانشجوی مهندسی کامپیوتر دانشگاه شریف با تجربه در توسعه بک‌اند با Python و Django و علاقه‌مند به حوزه هوش مصنوعی.\n",
        "---\n",
        "رزومه:\n",
        "{ text}\n",
        "---\n",
        "خلاصه:\n",
        "\n",
        "    \"\"\"\n",
        "  output = generator(prompt, max_new_tokens=150, temperature=0.2)[0]['generated_text']\n",
        "  return output\n",
        "def get_skills(text):\n",
        "  prompt = f\"\"\"\n",
        "   مهارت‌های کلیدی فرد در رزومه زیر را فقط و فقط به صورت لیست، کوتاه و با - شروع هر مهارت، به فارسی استخراج کن.\n",
        "   فقط مهارت های ذکر شده در پروژه رو استفاده کن. مهارتی از خودت اختراع نکن\n",
        "   فقط در قالب یک فهرست بنویس\n",
        "«فقط مهارت‌ها و توانایی‌های اثبات‌شده در رزومه، علاقه‌مندی یا صفات شخصیتی ننویس.»\n",
        "مثال:\n",
        "ورودی:\n",
        "دانشجوی مهندسی کامپیوتر، توسعه‌دهنده وب با تجربه Django. علاقه‌مند به هوش مصنوعی و یادگیری ماشین.\n",
        "خروجی:\n",
        "- برنامه‌نویسی Python و Django\n",
        "- توسعه وب\n",
        "علاقه مند به هوش مصنوعی رو نمیذاریم در این لیست چون صرفا علاقع است تواناییی های ثابت شده را در نظر میگیریم\n",
        "---\n",
        "رزومه:\n",
        "{text }\n",
        "---\n",
        "مهارت‌ها:\n",
        "\n",
        "  \"\"\"\n",
        "  output = generator(prompt,max_new_tokens = 150 , temperature =0.2)[0][\"generated_text\"]\n",
        "  return output\n",
        "\n",
        "def get_professional_category(text):\n",
        "    prompt = f\"\"\"\n",
        "\n",
        "   با توجه به رزومه زیر، بهترین دسته‌بندی حرفه‌ای و توصیه شغلی را فقط به فارسی و در یک جمله بنویس.\n",
        " به اندازه 20 کلمه بنویس نه بیشتر نه کمتر\n",
        "ا توجه به سوابق فنی و پروژه‌های عملی و علایق ذکرشده، فقط یک جمله با اشاره به نقاط قوت منحصربه‌فرد رزومه بنویس.\n",
        "\n",
        " مثال:\n",
        "این فرد می‌تواند در حوزه توسعه بک‌اند و پروژه‌های مرتبط با هوش مصنوعی فعالیت کند.\n",
        "---\n",
        "رزومه:\n",
        "{ text}\n",
        "---\n",
        "توصیه شغلی:\n",
        "\n",
        "    \"\"\"\n",
        "    output = generator(prompt, max_new_tokens=150, temperature=0.2)[0]['generated_text']\n",
        "    return output\n",
        "\n",
        "summary = get_summary(resume_text)\n",
        "skills = get_skills(resume_text)\n",
        "recommendation = get_professional_category(resume_text)\n",
        "\n",
        "\n",
        "\n",
        "\n",
        "print(\"خلاصه:\", summary)\n",
        "print(\"مهارت‌ها:\", skills)\n",
        "print(\"توصیه شغلی:\", recommendation)\n"
      ]
    },
    {
      "cell_type": "code",
      "execution_count": null,
      "metadata": {
        "id": "NoSAWHgYONMF"
      },
      "outputs": [],
      "source": []
    }
  ],
  "metadata": {
    "accelerator": "GPU",
    "colab": {
      "gpuType": "T4",
      "provenance": [],
      "authorship_tag": "ABX9TyMPTfQDITrdgnuG6RWJYxYN",
      "include_colab_link": true
    },
    "kernelspec": {
      "display_name": "Python 3",
      "name": "python3"
    },
    "language_info": {
      "name": "python"
    },
    "widgets": {
      "application/vnd.jupyter.widget-state+json": {
        "aaf411372a514f1b998bccd9699b1f56": {
          "model_module": "@jupyter-widgets/controls",
          "model_name": "HBoxModel",
          "model_module_version": "1.5.0",
          "state": {
            "_dom_classes": [],
            "_model_module": "@jupyter-widgets/controls",
            "_model_module_version": "1.5.0",
            "_model_name": "HBoxModel",
            "_view_count": null,
            "_view_module": "@jupyter-widgets/controls",
            "_view_module_version": "1.5.0",
            "_view_name": "HBoxView",
            "box_style": "",
            "children": [
              "IPY_MODEL_1f390f52e88b438da25b85e26fea4038",
              "IPY_MODEL_0823743930ac429395f87c8dab98d5ff",
              "IPY_MODEL_b968b1c4ff99423a8862496caceca215"
            ],
            "layout": "IPY_MODEL_75a3fee0577f46edbd193960045fe611"
          }
        },
        "1f390f52e88b438da25b85e26fea4038": {
          "model_module": "@jupyter-widgets/controls",
          "model_name": "HTMLModel",
          "model_module_version": "1.5.0",
          "state": {
            "_dom_classes": [],
            "_model_module": "@jupyter-widgets/controls",
            "_model_module_version": "1.5.0",
            "_model_name": "HTMLModel",
            "_view_count": null,
            "_view_module": "@jupyter-widgets/controls",
            "_view_module_version": "1.5.0",
            "_view_name": "HTMLView",
            "description": "",
            "description_tooltip": null,
            "layout": "IPY_MODEL_1009a5c7c83a469a82d4efdb93757e8f",
            "placeholder": "​",
            "style": "IPY_MODEL_764ca9a22d8b4204bd93c07c816775e5",
            "value": "Loading checkpoint shards: 100%"
          }
        },
        "0823743930ac429395f87c8dab98d5ff": {
          "model_module": "@jupyter-widgets/controls",
          "model_name": "FloatProgressModel",
          "model_module_version": "1.5.0",
          "state": {
            "_dom_classes": [],
            "_model_module": "@jupyter-widgets/controls",
            "_model_module_version": "1.5.0",
            "_model_name": "FloatProgressModel",
            "_view_count": null,
            "_view_module": "@jupyter-widgets/controls",
            "_view_module_version": "1.5.0",
            "_view_name": "ProgressView",
            "bar_style": "success",
            "description": "",
            "description_tooltip": null,
            "layout": "IPY_MODEL_34b79c6d4add4106a222e6b88a195805",
            "max": 2,
            "min": 0,
            "orientation": "horizontal",
            "style": "IPY_MODEL_272aefe89a7240c0bf53f2f0f49224a8",
            "value": 2
          }
        },
        "b968b1c4ff99423a8862496caceca215": {
          "model_module": "@jupyter-widgets/controls",
          "model_name": "HTMLModel",
          "model_module_version": "1.5.0",
          "state": {
            "_dom_classes": [],
            "_model_module": "@jupyter-widgets/controls",
            "_model_module_version": "1.5.0",
            "_model_name": "HTMLModel",
            "_view_count": null,
            "_view_module": "@jupyter-widgets/controls",
            "_view_module_version": "1.5.0",
            "_view_name": "HTMLView",
            "description": "",
            "description_tooltip": null,
            "layout": "IPY_MODEL_4fb49ea2dc4d485598826c97f559e2d8",
            "placeholder": "​",
            "style": "IPY_MODEL_0fc9a73fe2b6457c90b6a35a36d76da7",
            "value": " 2/2 [03:19&lt;00:00, 94.52s/it]"
          }
        },
        "75a3fee0577f46edbd193960045fe611": {
          "model_module": "@jupyter-widgets/base",
          "model_name": "LayoutModel",
          "model_module_version": "1.2.0",
          "state": {
            "_model_module": "@jupyter-widgets/base",
            "_model_module_version": "1.2.0",
            "_model_name": "LayoutModel",
            "_view_count": null,
            "_view_module": "@jupyter-widgets/base",
            "_view_module_version": "1.2.0",
            "_view_name": "LayoutView",
            "align_content": null,
            "align_items": null,
            "align_self": null,
            "border": null,
            "bottom": null,
            "display": null,
            "flex": null,
            "flex_flow": null,
            "grid_area": null,
            "grid_auto_columns": null,
            "grid_auto_flow": null,
            "grid_auto_rows": null,
            "grid_column": null,
            "grid_gap": null,
            "grid_row": null,
            "grid_template_areas": null,
            "grid_template_columns": null,
            "grid_template_rows": null,
            "height": null,
            "justify_content": null,
            "justify_items": null,
            "left": null,
            "margin": null,
            "max_height": null,
            "max_width": null,
            "min_height": null,
            "min_width": null,
            "object_fit": null,
            "object_position": null,
            "order": null,
            "overflow": null,
            "overflow_x": null,
            "overflow_y": null,
            "padding": null,
            "right": null,
            "top": null,
            "visibility": null,
            "width": null
          }
        },
        "1009a5c7c83a469a82d4efdb93757e8f": {
          "model_module": "@jupyter-widgets/base",
          "model_name": "LayoutModel",
          "model_module_version": "1.2.0",
          "state": {
            "_model_module": "@jupyter-widgets/base",
            "_model_module_version": "1.2.0",
            "_model_name": "LayoutModel",
            "_view_count": null,
            "_view_module": "@jupyter-widgets/base",
            "_view_module_version": "1.2.0",
            "_view_name": "LayoutView",
            "align_content": null,
            "align_items": null,
            "align_self": null,
            "border": null,
            "bottom": null,
            "display": null,
            "flex": null,
            "flex_flow": null,
            "grid_area": null,
            "grid_auto_columns": null,
            "grid_auto_flow": null,
            "grid_auto_rows": null,
            "grid_column": null,
            "grid_gap": null,
            "grid_row": null,
            "grid_template_areas": null,
            "grid_template_columns": null,
            "grid_template_rows": null,
            "height": null,
            "justify_content": null,
            "justify_items": null,
            "left": null,
            "margin": null,
            "max_height": null,
            "max_width": null,
            "min_height": null,
            "min_width": null,
            "object_fit": null,
            "object_position": null,
            "order": null,
            "overflow": null,
            "overflow_x": null,
            "overflow_y": null,
            "padding": null,
            "right": null,
            "top": null,
            "visibility": null,
            "width": null
          }
        },
        "764ca9a22d8b4204bd93c07c816775e5": {
          "model_module": "@jupyter-widgets/controls",
          "model_name": "DescriptionStyleModel",
          "model_module_version": "1.5.0",
          "state": {
            "_model_module": "@jupyter-widgets/controls",
            "_model_module_version": "1.5.0",
            "_model_name": "DescriptionStyleModel",
            "_view_count": null,
            "_view_module": "@jupyter-widgets/base",
            "_view_module_version": "1.2.0",
            "_view_name": "StyleView",
            "description_width": ""
          }
        },
        "34b79c6d4add4106a222e6b88a195805": {
          "model_module": "@jupyter-widgets/base",
          "model_name": "LayoutModel",
          "model_module_version": "1.2.0",
          "state": {
            "_model_module": "@jupyter-widgets/base",
            "_model_module_version": "1.2.0",
            "_model_name": "LayoutModel",
            "_view_count": null,
            "_view_module": "@jupyter-widgets/base",
            "_view_module_version": "1.2.0",
            "_view_name": "LayoutView",
            "align_content": null,
            "align_items": null,
            "align_self": null,
            "border": null,
            "bottom": null,
            "display": null,
            "flex": null,
            "flex_flow": null,
            "grid_area": null,
            "grid_auto_columns": null,
            "grid_auto_flow": null,
            "grid_auto_rows": null,
            "grid_column": null,
            "grid_gap": null,
            "grid_row": null,
            "grid_template_areas": null,
            "grid_template_columns": null,
            "grid_template_rows": null,
            "height": null,
            "justify_content": null,
            "justify_items": null,
            "left": null,
            "margin": null,
            "max_height": null,
            "max_width": null,
            "min_height": null,
            "min_width": null,
            "object_fit": null,
            "object_position": null,
            "order": null,
            "overflow": null,
            "overflow_x": null,
            "overflow_y": null,
            "padding": null,
            "right": null,
            "top": null,
            "visibility": null,
            "width": null
          }
        },
        "272aefe89a7240c0bf53f2f0f49224a8": {
          "model_module": "@jupyter-widgets/controls",
          "model_name": "ProgressStyleModel",
          "model_module_version": "1.5.0",
          "state": {
            "_model_module": "@jupyter-widgets/controls",
            "_model_module_version": "1.5.0",
            "_model_name": "ProgressStyleModel",
            "_view_count": null,
            "_view_module": "@jupyter-widgets/base",
            "_view_module_version": "1.2.0",
            "_view_name": "StyleView",
            "bar_color": null,
            "description_width": ""
          }
        },
        "4fb49ea2dc4d485598826c97f559e2d8": {
          "model_module": "@jupyter-widgets/base",
          "model_name": "LayoutModel",
          "model_module_version": "1.2.0",
          "state": {
            "_model_module": "@jupyter-widgets/base",
            "_model_module_version": "1.2.0",
            "_model_name": "LayoutModel",
            "_view_count": null,
            "_view_module": "@jupyter-widgets/base",
            "_view_module_version": "1.2.0",
            "_view_name": "LayoutView",
            "align_content": null,
            "align_items": null,
            "align_self": null,
            "border": null,
            "bottom": null,
            "display": null,
            "flex": null,
            "flex_flow": null,
            "grid_area": null,
            "grid_auto_columns": null,
            "grid_auto_flow": null,
            "grid_auto_rows": null,
            "grid_column": null,
            "grid_gap": null,
            "grid_row": null,
            "grid_template_areas": null,
            "grid_template_columns": null,
            "grid_template_rows": null,
            "height": null,
            "justify_content": null,
            "justify_items": null,
            "left": null,
            "margin": null,
            "max_height": null,
            "max_width": null,
            "min_height": null,
            "min_width": null,
            "object_fit": null,
            "object_position": null,
            "order": null,
            "overflow": null,
            "overflow_x": null,
            "overflow_y": null,
            "padding": null,
            "right": null,
            "top": null,
            "visibility": null,
            "width": null
          }
        },
        "0fc9a73fe2b6457c90b6a35a36d76da7": {
          "model_module": "@jupyter-widgets/controls",
          "model_name": "DescriptionStyleModel",
          "model_module_version": "1.5.0",
          "state": {
            "_model_module": "@jupyter-widgets/controls",
            "_model_module_version": "1.5.0",
            "_model_name": "DescriptionStyleModel",
            "_view_count": null,
            "_view_module": "@jupyter-widgets/base",
            "_view_module_version": "1.2.0",
            "_view_name": "StyleView",
            "description_width": ""
          }
        }
      }
    }
  },
  "nbformat": 4,
  "nbformat_minor": 0
}